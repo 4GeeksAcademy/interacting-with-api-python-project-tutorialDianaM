{
 "cells": [
  {
   "cell_type": "markdown",
   "metadata": {},
   "source": [
    "# Explore here"
   ]
  },
  {
   "cell_type": "code",
   "execution_count": 2,
   "metadata": {},
   "outputs": [
    {
     "data": {
      "text/plain": [
       "True"
      ]
     },
     "execution_count": 2,
     "metadata": {},
     "output_type": "execute_result"
    }
   ],
   "source": [
    "import os\n",
    "import pandas as pd\n",
    "from dotenv import load_dotenv\n",
    "\n",
    "# load the .env file variables\n",
    "load_dotenv()"
   ]
  },
  {
   "cell_type": "code",
   "execution_count": 3,
   "metadata": {},
   "outputs": [
    {
     "name": "stdout",
     "output_type": "stream",
     "text": [
      "Success\n"
     ]
    }
   ],
   "source": [
    "#STEP 1) CLIENT AUTHORIZATION:\n",
    "\n",
    "import requests\n",
    "import spotipy\n",
    "from spotipy.oauth2 import SpotifyClientCredentials\n",
    "\n",
    "\n",
    "client_id = \"b39d03291cbd4cfbad1b66ef17c744ed\"\n",
    "client_secret = \"87bf7024d96243eea0ddf847f4efd506\"\n",
    "\n",
    "\n",
    "client_credentials_manager = SpotifyClientCredentials(client_id=client_id, client_secret=client_secret)\n",
    "sp = spotipy.Spotify(client_credentials_manager=client_credentials_manager)\n",
    "\n",
    "if client_credentials_manager and sp:\n",
    "  print(\"Success\")\n",
    "elif client_credentials_manager: \n",
    "  print(\"Just Auth Manager\")\n",
    "elif sp:\n",
    "   print(\"Just Sp\")\n",
    "else:\n",
    "  print(\"not worked\")"
   ]
  },
  {
   "cell_type": "code",
   "execution_count": 4,
   "metadata": {},
   "outputs": [
    {
     "name": "stdout",
     "output_type": "stream",
     "text": [
      "                                                name  popularity  duration_ms\n",
      "0                                                 ❤️          58       188966\n",
      "1  Never Gonna Be Alone (feat. Lizzy McAlpine & J...          54       250200\n",
      "2  Bridge Over Troubled Water (feat. John Legend ...          46       352106\n",
      "3  Wherever I Go (feat. Lawrence & Michael McDonald)          51       165240\n",
      "4                 Little Blue (feat. Brandi Carlile)          48       265333\n",
      "5          Time Alone With You (feat. Daniel Caesar)          45       256239\n",
      "6  Witness Me (feat. Shawn Mendes, Stormzy & Kirk...          43       222120\n",
      "7          All I Need (with Mahalia & Ty Dolla $ign)          48       245200\n",
      "8                           Magic (feat. Emily King)          48       239480\n",
      "9               The Sun Is In Your Eyes - Voice Memo          47       111875\n"
     ]
    }
   ],
   "source": [
    "# STEP 2) ARTIST TOP 10 TRACKS SUBSTRACTION OF REQUESTED DATA (name, popularity and duration)\n",
    "\n",
    "from spotipy.oauth2 import SpotifyClientCredentials\n",
    "import spotipy\n",
    "import sys\n",
    "\n",
    "artist_id = \"0QWrMNukfcVOmgEU0FEDyD\"  \n",
    "\n",
    "response = sp.artist_top_tracks(artist_id)\n",
    "\n",
    "try: \n",
    "  response = sp.artist_top_tracks(artist_id) \n",
    "  tracks = response['tracks']\n",
    "  top_10_tracks = [{'name': track['name'], 'popularity': track['popularity'], 'duration_ms': track['duration_ms']} for track in tracks[:10]]\n",
    "  df_tracks = pd.DataFrame(top_10_tracks)\n",
    "  print(df_tracks)\n",
    "\n",
    "except Exception as e: \n",
    "  print(f\"Error: {e}\")"
   ]
  },
  {
   "cell_type": "code",
   "execution_count": 6,
   "metadata": {},
   "outputs": [
    {
     "data": {
      "text/html": [
       "<div>\n",
       "<style scoped>\n",
       "    .dataframe tbody tr th:only-of-type {\n",
       "        vertical-align: middle;\n",
       "    }\n",
       "\n",
       "    .dataframe tbody tr th {\n",
       "        vertical-align: top;\n",
       "    }\n",
       "\n",
       "    .dataframe thead th {\n",
       "        text-align: right;\n",
       "    }\n",
       "</style>\n",
       "<table border=\"1\" class=\"dataframe\">\n",
       "  <thead>\n",
       "    <tr style=\"text-align: right;\">\n",
       "      <th></th>\n",
       "      <th>name</th>\n",
       "      <th>popularity</th>\n",
       "      <th>duration_ms</th>\n",
       "    </tr>\n",
       "  </thead>\n",
       "  <tbody>\n",
       "    <tr>\n",
       "      <th>0</th>\n",
       "      <td>❤️</td>\n",
       "      <td>58</td>\n",
       "      <td>188966</td>\n",
       "    </tr>\n",
       "    <tr>\n",
       "      <th>1</th>\n",
       "      <td>Never Gonna Be Alone (feat. Lizzy McAlpine &amp; J...</td>\n",
       "      <td>54</td>\n",
       "      <td>250200</td>\n",
       "    </tr>\n",
       "    <tr>\n",
       "      <th>2</th>\n",
       "      <td>Bridge Over Troubled Water (feat. John Legend ...</td>\n",
       "      <td>46</td>\n",
       "      <td>352106</td>\n",
       "    </tr>\n",
       "  </tbody>\n",
       "</table>\n",
       "</div>"
      ],
      "text/plain": [
       "                                                name  popularity  duration_ms\n",
       "0                                                 ❤️          58       188966\n",
       "1  Never Gonna Be Alone (feat. Lizzy McAlpine & J...          54       250200\n",
       "2  Bridge Over Troubled Water (feat. John Legend ...          46       352106"
      ]
     },
     "execution_count": 6,
     "metadata": {},
     "output_type": "execute_result"
    }
   ],
   "source": [
    "# Sort the songs by increasing popularity and display the resulting top 3\n",
    "\n",
    "df_tracks.sort_values(\"popularity\", ascending=False)\n",
    "df_tracks.head(3)"
   ]
  }
 ],
 "metadata": {
  "kernelspec": {
   "display_name": "Python 3",
   "language": "python",
   "name": "python3"
  },
  "language_info": {
   "codemirror_mode": {
    "name": "ipython",
    "version": 3
   },
   "file_extension": ".py",
   "mimetype": "text/x-python",
   "name": "python",
   "nbconvert_exporter": "python",
   "pygments_lexer": "ipython3",
   "version": "3.11.4"
  },
  "orig_nbformat": 4
 },
 "nbformat": 4,
 "nbformat_minor": 2
}
